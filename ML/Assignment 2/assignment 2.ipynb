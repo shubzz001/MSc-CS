{
 "cells": [
  {
   "cell_type": "markdown",
   "metadata": {},
   "source": [
    "Q1. Write a to calculate area me circle based on radius enter by user"
   ]
  },
  {
   "cell_type": "code",
   "execution_count": 4,
   "metadata": {},
   "outputs": [
    {
     "name": "stdout",
     "output_type": "stream",
     "text": [
      "Area of cricle with radius 6 is 113.03999999999999sq. units\n"
     ]
    }
   ],
   "source": [
    "radius= int(input(\"enter radius of cricle\"))\n",
    "area=3.14*radius*radius\n",
    "print(\"Area of cricle with radius \" +str(radius)+\" is \"+str(area)+\"sq. units\")\n"
   ]
  },
  {
   "cell_type": "markdown",
   "metadata": {},
   "source": [
    "Q2. WAP that accepts a student names with first name & last name and prints it in reversed order with a space between them. "
   ]
  },
  {
   "cell_type": "code",
   "execution_count": 1,
   "metadata": {},
   "outputs": [
    {
     "name": "stdout",
     "output_type": "stream",
     "text": [
      "Reversed name: zende shubham\n"
     ]
    }
   ],
   "source": [
    "first_name, last_name = input(\"Enter first name and last name: \").split()\n",
    "print(\"Reversed name:\", last_name, first_name)\n"
   ]
  },
  {
   "cell_type": "markdown",
   "metadata": {},
   "source": [
    "Q3. Write a python program that accept comma separated no from the user and generate a  list and tuple"
   ]
  },
  {
   "cell_type": "code",
   "execution_count": 11,
   "metadata": {},
   "outputs": [
    {
     "name": "stdout",
     "output_type": "stream",
     "text": [
      "List: [2, 3, 4, 5]\n",
      "Tuple: (2, 3, 4, 5)\n"
     ]
    }
   ],
   "source": [
    "numbers = [int(num) for num in input(\"Enter comma-separated numbers: \").split(',') if num.strip()]\n",
    "numbers_list = numbers\n",
    "numbers_tuple = tuple(numbers)\n",
    "\n",
    "print(\"List:\", numbers_list)\n",
    "print(\"Tuple:\", numbers_tuple)\n"
   ]
  },
  {
   "cell_type": "markdown",
   "metadata": {},
   "source": [
    "Q4. Write a python program that accepts an integer and computes the series of no in format\n",
    " 5= 5+5*5+5*5*5+5*5*5*5+5*5*5*5*5"
   ]
  },
  {
   "cell_type": "code",
   "execution_count": 14,
   "metadata": {},
   "outputs": [
    {
     "name": "stdout",
     "output_type": "stream",
     "text": [
      "The sum of the series is: 781\n"
     ]
    }
   ],
   "source": [
    "def compute_series(number, terms):\n",
    "    result = 0\n",
    "    current_term = 1\n",
    "    \n",
    "    for _ in range(terms):\n",
    "        result += current_term\n",
    "        current_term *= number\n",
    "    \n",
    "    return result\n",
    "\n",
    "def main():\n",
    "    try:\n",
    "        number = int(input(\"Enter an integer: \"))\n",
    "        terms = int(input(\"Enter the number of terms: \"))\n",
    "        \n",
    "        if terms <= 0:\n",
    "            print(\"Number of terms should be greater than 0.\")\n",
    "        else:\n",
    "            series_sum = compute_series(number, terms)\n",
    "            print(f\"The sum of the series is: {series_sum}\")\n",
    "    except ValueError:\n",
    "        print(\"Please enter valid integer inputs.\")\n",
    "\n",
    "if __name__ == \"__main__\":\n",
    "    main()\n"
   ]
  },
  {
   "cell_type": "markdown",
   "metadata": {},
   "source": [
    "Q5. Write an python program to calculate the no of days between given two dates"
   ]
  },
  {
   "cell_type": "code",
   "execution_count": 15,
   "metadata": {},
   "outputs": [
    {
     "name": "stdout",
     "output_type": "stream",
     "text": [
      "Number of days between the two dates: 8065\n"
     ]
    }
   ],
   "source": [
    "from datetime import datetime\n",
    "\n",
    "date1 = input(\"Enter the first date (YYYY-MM-DD): \")\n",
    "date2 = input(\"Enter the second date (YYYY-MM-DD): \")\n",
    "\n",
    "try:\n",
    "    days_difference = (datetime.strptime(date2, \"%Y-%m-%d\") - datetime.strptime(date1, \"%Y-%m-%d\")).days\n",
    "    print(f\"Number of days between the two dates: {days_difference}\")\n",
    "except ValueError:\n",
    "    print(\"Invalid date format\")\n"
   ]
  },
  {
   "cell_type": "markdown",
   "metadata": {},
   "source": [
    "Q6. Write a python program to count a specific no which will enter by user in the given no list"
   ]
  },
  {
   "cell_type": "code",
   "execution_count": 19,
   "metadata": {},
   "outputs": [
    {
     "name": "stdout",
     "output_type": "stream",
     "text": [
      "number 2 occurs 0 times in the given list.\n"
     ]
    }
   ],
   "source": [
    "user_list = input().split(\" \") # 1 2 3 4 5 4 3 2 12 12 1 \n",
    "a = input(\"enter the number: \") #2 \n",
    "print(\"number\", a, \"occurs\", user_list.count(a), \"times in the given list.\")\n"
   ]
  },
  {
   "cell_type": "markdown",
   "metadata": {},
   "source": [
    "Q7. Write a python program to count vowels in the strings."
   ]
  },
  {
   "cell_type": "code",
   "execution_count": 20,
   "metadata": {},
   "outputs": [
    {
     "name": "stdout",
     "output_type": "stream",
     "text": [
      "The number of vowels in the string is: 4\n"
     ]
    }
   ],
   "source": [
    "input_string = input(\"Enter a string: \")\n",
    "vowel_count = sum(1 for char in input_string if char.lower() in 'aeiou')\n",
    "print(f\"The number of vowels in the string is: {vowel_count}\")\n"
   ]
  }
 ],
 "metadata": {
  "kernelspec": {
   "display_name": "Python 3",
   "language": "python",
   "name": "python3"
  },
  "language_info": {
   "codemirror_mode": {
    "name": "ipython",
    "version": 3
   },
   "file_extension": ".py",
   "mimetype": "text/x-python",
   "name": "python",
   "nbconvert_exporter": "python",
   "pygments_lexer": "ipython3",
   "version": "3.11.4"
  },
  "orig_nbformat": 4
 },
 "nbformat": 4,
 "nbformat_minor": 2
}
