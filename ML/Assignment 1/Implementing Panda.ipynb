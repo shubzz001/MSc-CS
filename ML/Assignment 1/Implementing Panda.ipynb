{
 "cells": [
  {
   "cell_type": "markdown",
   "metadata": {},
   "source": [
    "                                   Shubham Zende\n",
    "                                   1132220266\n",
    "                                   Assignment 1"
   ]
  },
  {
   "cell_type": "code",
   "execution_count": 2,
   "metadata": {},
   "outputs": [
    {
     "name": "stdout",
     "output_type": "stream",
     "text": [
      "Sum of numbers divisible by 4: 18600\n"
     ]
    }
   ],
   "source": [
    "#2. Write a program to find sum of all numbers divisible by 4 in a range 100 to 400.\n",
    "\n",
    "# Initialize variables\n",
    "start = 100\n",
    "end = 400\n",
    "divisor = 4\n",
    "sum_divisible = 0\n",
    "\n",
    "# Loop through the range and add numbers divisible by 4 to the sum\n",
    "for num in range(start, end ):\n",
    "    if num % divisor == 0:\n",
    "        sum_divisible += num\n",
    "\n",
    "# Print the result\n",
    "print(\"Sum of numbers divisible by 4:\", sum_divisible)\n"
   ]
  },
  {
   "cell_type": "code",
   "execution_count": 3,
   "metadata": {},
   "outputs": [
    {
     "name": "stdout",
     "output_type": "stream",
     "text": [
      "1 1 is not a prime number.\n"
     ]
    }
   ],
   "source": [
    "##3  Write a program to find out the given number is prime or not.\n",
    "\n",
    "def is_prime(number):\n",
    "    if number <= 1:\n",
    "        return False\n",
    "    for i in range(2, int(number ** 0.5) + 1):\n",
    "        if number % i == 0:\n",
    "            return False\n",
    "    return True\n",
    "\n",
    "num = int(input(\"Enter a number: \"))\n",
    "print(num, \"is a prime number.\" if is_prime(num) else num, \"is not a prime number.\")\n"
   ]
  },
  {
   "cell_type": "code",
   "execution_count": 4,
   "metadata": {},
   "outputs": [
    {
     "name": "stdout",
     "output_type": "stream",
     "text": [
      "Sum of digits of 2 is 2\n"
     ]
    }
   ],
   "source": [
    "## 4 Write a program to display the sum of digits of the given integers. Eg: 312 = 6\n",
    "def sum_of_digits(number):\n",
    "    total = 0\n",
    "    while number > 0:\n",
    "        digit = number % 10\n",
    "        total += digit\n",
    "        number //= 10\n",
    "    return total\n",
    "\n",
    "# Get user input\n",
    "num = int(input(\"Enter an integer: \"))\n",
    "\n",
    "digit_sum = sum_of_digits(num)\n",
    "print(\"Sum of digits of\", num, \"is\", digit_sum)\n"
   ]
  },
  {
   "cell_type": "code",
   "execution_count": 5,
   "metadata": {},
   "outputs": [
    {
     "name": "stdout",
     "output_type": "stream",
     "text": [
      "Square of reversed 3 is 9\n"
     ]
    }
   ],
   "source": [
    "# 5 Write a program to display the square of reversed numbers of an given input integer\n",
    "def reverse_number(number):\n",
    "    reversed_num = 0\n",
    "    while number > 0:\n",
    "        digit = number % 10\n",
    "        reversed_num = reversed_num * 10 + digit\n",
    "        number //= 10\n",
    "    return reversed_num\n",
    "\n",
    "# Get user input\n",
    "num = int(input(\"Enter an integer: \"))\n",
    "\n",
    "reversed_num = reverse_number(num)\n",
    "reversed_square = reversed_num ** 2\n",
    "\n",
    "print(\"Square of reversed\", num, \"is\", reversed_square)\n"
   ]
  },
  {
   "cell_type": "code",
   "execution_count": 6,
   "metadata": {},
   "outputs": [
    {
     "name": "stdout",
     "output_type": "stream",
     "text": [
      "Modified string: 2\n"
     ]
    }
   ],
   "source": [
    "## 6  Write a program to replace the capital letters from the given string with \"*\"\n",
    "\n",
    "def replace_capitals_with_asterisks(input_string):\n",
    "    translation_table = str.maketrans(\"ABCDEFGHIJKLMNOPQRSTUVWXYZ\", \"*\" * 26)\n",
    "    modified_string = input_string.translate(translation_table)\n",
    "    return modified_string\n",
    "\n",
    "# Get user input\n",
    "input_str = input(\"Enter a string: \")\n",
    "\n",
    "modified_str = replace_capitals_with_asterisks(input_str)\n",
    "print(\"Modified string:\", modified_str)\n",
    "\n"
   ]
  },
  {
   "cell_type": "code",
   "execution_count": 7,
   "metadata": {},
   "outputs": [
    {
     "name": "stdout",
     "output_type": "stream",
     "text": [
      "Number of digits: 1\n"
     ]
    }
   ],
   "source": [
    "## 7 Write a program to count digits in a given string\n",
    "\n",
    "def count_digits(input_string):\n",
    "    digit_count = 0\n",
    "    for char in input_string:\n",
    "        if char.isdigit():\n",
    "            digit_count += 1\n",
    "    return digit_count\n",
    "\n",
    "# Get user input\n",
    "input_str = input(\"Enter a string: \")\n",
    "\n",
    "num_digits = count_digits(input_str)\n",
    "print(\"Number of digits:\", num_digits)\n",
    "\n"
   ]
  },
  {
   "cell_type": "code",
   "execution_count": 8,
   "metadata": {},
   "outputs": [
    {
     "name": "stdout",
     "output_type": "stream",
     "text": [
      "Palindrome: sds\n"
     ]
    }
   ],
   "source": [
    "## 8   Write a program which enters any letters and convert it into palindrome string, if the entered letters are not in palindrome then display the message\n",
    "\n",
    "\n",
    "def make_palindrome(input_str):\n",
    "    palindrome = input_str\n",
    "    i = len(input_str) - 2\n",
    "    \n",
    "    while i >= 0:\n",
    "        palindrome += input_str[i]\n",
    "        i -= 1\n",
    "    \n",
    "    return palindrome\n",
    "\n",
    "# Get user input\n",
    "input_str = input(\"Enter a string: \")\n",
    "\n",
    "palindrome_str = make_palindrome(input_str)\n",
    "\n",
    "if palindrome_str == input_str:\n",
    "    print(\"The string is already a palindrome:\", palindrome_str)\n",
    "else:\n",
    "    print(\"Palindrome:\", palindrome_str)\n"
   ]
  },
  {
   "cell_type": "code",
   "execution_count": 10,
   "metadata": {},
   "outputs": [
    {
     "name": "stderr",
     "output_type": "stream",
     "text": [
      "UsageError: Line magic function `%jupyter` not found.\n"
     ]
    }
   ],
   "source": [
    "\n"
   ]
  }
 ],
 "metadata": {
  "kernelspec": {
   "display_name": "Python 3",
   "language": "python",
   "name": "python3"
  },
  "language_info": {
   "codemirror_mode": {
    "name": "ipython",
    "version": 3
   },
   "file_extension": ".py",
   "mimetype": "text/x-python",
   "name": "python",
   "nbconvert_exporter": "python",
   "pygments_lexer": "ipython3",
   "version": "3.11.5"
  },
  "orig_nbformat": 4
 },
 "nbformat": 4,
 "nbformat_minor": 2
}
